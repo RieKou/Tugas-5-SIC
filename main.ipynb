{
 "cells": [
  {
   "cell_type": "code",
   "execution_count": null,
   "id": "31a49d01",
   "metadata": {},
   "outputs": [
    {
     "name": "stdout",
     "output_type": "stream",
     "text": [
      "=== KONVERSI SUHU ===\n",
      "Masukkan nilai suhu: 100.0\n",
      "Dari satuan (C/F/K): c\n",
      "Ke satuan (C/F/K): f\n",
      "Hasil 100.0 °C: 212.0 °F\n"
     ]
    }
   ],
   "source": [
    "from utils import KonversiSuhu\n",
    "\n",
    "def main():\n",
    "    print(\"=== KONVERSI SUHU ===\")\n",
    "    suhu = float(input(\"Masukkan nilai suhu: \"))\n",
    "    print(\"Masukkan nilai suhu:\", suhu)\n",
    "    varDari = input(\"Dari satuan (C/F/K): \").lower()\n",
    "    print(\"Dari satuan (C/F/K):\", varDari)\n",
    "    varAkhir = input(\"Ke satuan (C/F/K): \").lower()\n",
    "    print(\"Ke satuan (C/F/K):\", varAkhir)\n",
    "\n",
    "    hasil = KonversiSuhu(suhu, varDari, varAkhir)\n",
    "    print(f\"Hasil {suhu}°{varDari.upper()} : {hasil}°{varAkhir.upper()}\")\n",
    "\n",
    "if __name__ == \"__main__\":\n",
    "    main()"
   ]
  }
 ],
 "metadata": {
  "kernelspec": {
   "display_name": "base",
   "language": "python",
   "name": "python3"
  },
  "language_info": {
   "codemirror_mode": {
    "name": "ipython",
    "version": 3
   },
   "file_extension": ".py",
   "mimetype": "text/x-python",
   "name": "python",
   "nbconvert_exporter": "python",
   "pygments_lexer": "ipython3",
   "version": "3.12.7"
  }
 },
 "nbformat": 4,
 "nbformat_minor": 5
}
